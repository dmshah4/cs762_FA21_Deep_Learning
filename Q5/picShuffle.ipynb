{
  "nbformat": 4,
  "nbformat_minor": 0,
  "metadata": {
    "colab": {
      "name": "picShuffle.ipynb",
      "provenance": [],
      "collapsed_sections": []
    },
    "kernelspec": {
      "name": "python3",
      "display_name": "Python 3"
    },
    "language_info": {
      "name": "python"
    }
  },
  "cells": [
    {
      "cell_type": "code",
      "metadata": {
        "colab": {
          "base_uri": "https://localhost:8080/"
        },
        "id": "Jfwe2RfuHzzb",
        "outputId": "0d9c8068-75ff-40bb-bd56-0d0e1ffc9b23"
      },
      "source": [
        "from google.colab import drive\n",
        "drive.mount('/content/gdrive')"
      ],
      "execution_count": null,
      "outputs": [
        {
          "output_type": "stream",
          "name": "stdout",
          "text": [
            "Mounted at /content/gdrive\n"
          ]
        }
      ]
    },
    {
      "cell_type": "code",
      "metadata": {
        "id": "_3GoQuL8IFWt"
      },
      "source": [
        "import pandas as pd\n",
        "import numpy as np\n",
        "import cv2\n",
        "from google.colab.patches import cv2_imshow\n",
        "import os\n",
        "from PIL import Image"
      ],
      "execution_count": null,
      "outputs": []
    },
    {
      "cell_type": "code",
      "metadata": {
        "id": "_vA8LWiyIH6t",
        "colab": {
          "base_uri": "https://localhost:8080/"
        },
        "outputId": "8c58c014-1ea2-4334-f5f9-ebbea06128b4"
      },
      "source": [
        "# Change this to your own dir path\n",
        "\n",
        "# Varun's Directory\n",
        "dir_uri = '/content/gdrive/MyDrive/University of Wisconsin-Madison/2021 Fall/cs762'\n",
        "# Devesh's Directory\n",
        "# dir_uri = '/content/gdrive/MyDrive'\n",
        "\n",
        "path_forImages = dir_uri + '/CS762_Deep_Learning_Project/datasets/Manual_Q5_Dataset/'\n",
        "all_images = []\n",
        "for filename in os.listdir(path_forImages):\n",
        "  all_images.append(filename)\n",
        "\n",
        "print(all_images)\n",
        "\n",
        "output_dir = dir_uri + '/CS762_Deep_Learning_Project/datasets/Manual_Q5_Shuffled/'\n",
        "\n",
        "num_shuffles = 3\n",
        "\n",
        "manual_shapes = [\n",
        "  [0, 15, 2, 3, 4, 5, 6, 7, 8, 9, 10, 11, 12, 13, 14, 1], # Person\n",
        "  [0, 1, 15, 3, 4, 5, 6, 7, 8, 9, 10, 11, 12, 13, 14, 2], # Person\n",
        "  \n",
        "  [0, 1, 2, 3, 4, 12, 6, 7, 8, 9, 10, 11, 5, 13, 14, 15], # Cat\n",
        "  [0, 1, 2, 3, 4, 5, 15, 7, 8, 9, 10, 11, 12, 13, 14, 6], # Cat\n",
        "\n",
        "  [0, 1, 12, 13, 4, 5, 8, 9, 2, 3, 10, 11, 6, 7, 14, 15], # Dog\n",
        "  [0, 1, 2, 3, 4, 15, 6, 7, 8, 9, 10, 11, 12, 13, 14, 5], # Dog\n",
        "  \n",
        "  [0, 1, 2, 6, 4, 5, 3, 7, 8, 9, 10, 11, 12, 13, 14, 15], # Bird\n",
        "  [0, 1, 2, 3, 4, 15, 6, 7, 8, 9, 10, 11, 12, 13, 14, 5], # Bird\n",
        "]"
      ],
      "execution_count": null,
      "outputs": [
        {
          "output_type": "stream",
          "name": "stdout",
          "text": [
            "['0-person.jpg', '1-person.jpg', '2-cat.jpeg', '3-cat.jpeg', '4-dog.jpeg', '5-dog.png', '6-bird.jpeg', '7-bird.jpeg']\n"
          ]
        }
      ]
    },
    {
      "cell_type": "code",
      "metadata": {
        "id": "UD2FiLF_KAIs",
        "colab": {
          "base_uri": "https://localhost:8080/"
        },
        "outputId": "a4006a6d-183b-42ea-99d2-bd6623ad07ae"
      },
      "source": [
        "# TODO: save these to a folder with unqiue names\n",
        "for shuffle_idx in range( num_shuffles ):\n",
        "  for i in range( len( all_images ) ):\n",
        "    print(all_images[i], shuffle_idx)\n",
        "\n",
        "    image_path = path_forImages + str(all_images[i])\n",
        "    img = cv2.imread(image_path)\n",
        "\n",
        "    height, width, channels = img.shape\n",
        "\n",
        "    newShape = [0, 1, 2, 3, 4, 5, 6, 7, 8, 9, 10, 11, 12, 13, 14, 15]\n",
        "    # Quick way to shuffle if we don't want to do it manually\n",
        "    np.random.shuffle( newShape )\n",
        "\n",
        "    if shuffle_idx == 2:\n",
        "      # Manual shuffle\n",
        "      newShape = manual_shapes[i]\n",
        "\n",
        "    imgSeg = []\n",
        "    deltaH = int(height/4)\n",
        "    deltaW = int(width/4)\n",
        "    currH = 0\n",
        "    currW = 0\n",
        "    for y in range(4):\n",
        "      for x in range(4):\n",
        "        crop = img[currH:currH + deltaH, currW:currW + deltaW]\n",
        "        imgSeg.append(crop)\n",
        "        currW = currW + deltaW\n",
        "      currH = currH + deltaH\n",
        "      currW = 0\n",
        "      \n",
        "    slices = []\n",
        "    for y in range(4):\n",
        "      idx = newShape.pop(0)\n",
        "      newSlice = imgSeg[idx]\n",
        "      for x in range(3):\n",
        "        currIdx = newShape.pop(0)\n",
        "        append = imgSeg[currIdx]\n",
        "        newSlice = np.concatenate((newSlice, append), axis=1)\n",
        "      slices.append(newSlice)\n",
        "\n",
        "    fullImg = slices.pop(0)\n",
        "\n",
        "    for j in range(3):\n",
        "      appendRow = slices[j]\n",
        "      fullImg = np.concatenate((fullImg, appendRow), axis=0)\n",
        "\n",
        "    output_name = all_images[i].split('.')[0] + '-' + str( shuffle_idx + 1) + '.' + all_images[i].split('.')[1]\n",
        "    cv2.imwrite(output_dir + output_name, fullImg)"
      ],
      "execution_count": null,
      "outputs": [
        {
          "output_type": "stream",
          "name": "stdout",
          "text": [
            "0-person.jpg 0\n",
            "1-person.jpg 0\n",
            "2-cat.jpeg 0\n",
            "3-cat.jpeg 0\n",
            "4-dog.jpeg 0\n",
            "5-dog.png 0\n",
            "6-bird.jpeg 0\n",
            "7-bird.jpeg 0\n",
            "0-person.jpg 1\n",
            "1-person.jpg 1\n",
            "2-cat.jpeg 1\n",
            "3-cat.jpeg 1\n",
            "4-dog.jpeg 1\n",
            "5-dog.png 1\n",
            "6-bird.jpeg 1\n",
            "7-bird.jpeg 1\n",
            "0-person.jpg 2\n",
            "1-person.jpg 2\n",
            "2-cat.jpeg 2\n",
            "3-cat.jpeg 2\n",
            "4-dog.jpeg 2\n",
            "5-dog.png 2\n",
            "6-bird.jpeg 2\n",
            "7-bird.jpeg 2\n"
          ]
        }
      ]
    },
    {
      "cell_type": "code",
      "metadata": {
        "id": "f_l66CBCQWZQ"
      },
      "source": [
        "for i in range( len( all_images ) ):\n",
        "  image_path = path_forImages + str(all_images[i])\n",
        "  img = cv2.imread(image_path)\n",
        "  output_name = all_images[i].split('.')[0] + '-' + str( 0) + '.' + all_images[i].split('.')[1]\n",
        "  cv2.imwrite(output_dir + output_name, img)"
      ],
      "execution_count": null,
      "outputs": []
    }
  ]
}