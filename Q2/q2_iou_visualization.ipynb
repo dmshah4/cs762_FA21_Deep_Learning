{
  "nbformat": 4,
  "nbformat_minor": 0,
  "metadata": {
    "colab": {
      "name": "q2-iou-visualization.ipynb",
      "provenance": [],
      "collapsed_sections": []
    },
    "kernelspec": {
      "name": "python3",
      "display_name": "Python 3"
    },
    "language_info": {
      "name": "python"
    }
  },
  "cells": [
    {
      "cell_type": "code",
      "execution_count": null,
      "metadata": {
        "id": "cAERFI9OCmlJ",
        "colab": {
          "base_uri": "https://localhost:8080/"
        },
        "outputId": "0622cda3-8035-4cab-e5cb-e3bb7b51d6e6"
      },
      "outputs": [
        {
          "output_type": "stream",
          "name": "stdout",
          "text": [
            "Mounted at /content/gdrive\n"
          ]
        }
      ],
      "source": [
        "# Google Collab Requirements / Checks\n",
        "from google.colab.patches import cv2_imshow # Change this before running elsewhere!!\n",
        "\n",
        "from google.colab import drive\n",
        "drive.mount('/content/gdrive')\n",
        "\n",
        "# Imports\n",
        "import cv2\n",
        "import os\n",
        "import glob\n",
        "import math\n",
        "import numpy as np\n",
        "import pandas as pd\n",
        "import copy\n",
        "\n",
        "from PIL import Image\n",
        "from torchvision import transforms\n",
        "from shapely.geometry import Polygon"
      ]
    },
    {
      "cell_type": "code",
      "source": [
        "# Load manual ms coco dataset and bounding boxes\n",
        "# Varun's Directory\n",
        "#dir_uri = '/content/gdrive/MyDrive/University of Wisconsin-Madison/2021 Fall/cs762'\n",
        "# Devesh's Directory\n",
        "dir_uri = '/content/gdrive/MyDrive'\n",
        "proj_dir = dir_uri + '/CS762_Deep_Learning_Project'\n",
        "\n",
        "# Images\n",
        "dataset_folder = dir_uri + '/CS762_Deep_Learning_Project/datasets/Manual_MSCOCO' \n",
        "image_names = []\n",
        "for filename in os.listdir(dataset_folder):\n",
        "  image_names.append(filename)\n",
        "\n",
        "image_names.sort(key=lambda x: int(x.split('-')[0]))\n",
        "\n",
        "# Load bbox's\n",
        "bbox_path = proj_dir + '/fullBBOX.xlsx'\n",
        "bbox_df = pd.read_excel(bbox_path)\n",
        "all_boxes = bbox_df.to_numpy()\n",
        "\n",
        "detr_bbox_path = proj_dir + '/detr_bbox.csv'\n",
        "detr_bbox_df = pd.read_csv(detr_bbox_path)\n",
        "detr_boxes = detr_bbox_df.to_numpy()\n",
        "\n",
        "yolo_bbox_path = proj_dir + '/yolo_bbox.csv'\n",
        "yolo_bbox_df = pd.read_csv(yolo_bbox_path)\n",
        "yolo_boxes = yolo_bbox_df.to_numpy()\n",
        "\n",
        "deit_bbox_path = proj_dir + '/deit_bbox.csv'\n",
        "deit_bbox_df = pd.read_csv(deit_bbox_path)\n",
        "deit_boxes = deit_bbox_df.to_numpy()\n",
        "\n",
        "resnet_bbox_path = proj_dir + '/resnet_bbox.csv'\n",
        "resnet_bbox_df = pd.read_csv(resnet_bbox_path)\n",
        "resnet_boxes = resnet_bbox_df.to_numpy()\n",
        "\n",
        "output_dir = proj_dir + '/Q2/output_images_bbox_drawn'"
      ],
      "metadata": {
        "id": "3i0WKPKNCvxo"
      },
      "execution_count": null,
      "outputs": []
    },
    {
      "cell_type": "code",
      "source": [
        "def resizeBbox(orig_bbox, orig_img_size, new_img_size):\n",
        "    orig_h = orig_img_size[0]\n",
        "    orig_w = orig_img_size[1]\n",
        "    new_h = new_img_size[0]\n",
        "    new_w = new_img_size[1]\n",
        "\n",
        "    h_ratio = new_h / orig_h\n",
        "    w_ratio = new_w / orig_w\n",
        "\n",
        "    # new_bbox = copy.deepcopy(orig_bbox)\n",
        "    # new_bbox[2] = orig_bbox[2] * w_ratio\n",
        "    # new_bbox[3] = orig_bbox[3] * h_ratio\n",
        "    # new_bbox[4] = orig_bbox[4] * w_ratio\n",
        "    # new_bbox[5] = orig_bbox[5] * h_ratio\n",
        "    # new_bbox[6] = orig_bbox[6] * w_ratio\n",
        "    # new_bbox[7] = orig_bbox[7] * h_ratio\n",
        "    # new_bbox[8] = orig_bbox[8] * w_ratio\n",
        "    # new_bbox[9] = orig_bbox[9] * h_ratio\n",
        "\n",
        "    new_bbox = [\n",
        "        orig_bbox[0] * w_ratio,\n",
        "        orig_bbox[1] * h_ratio,\n",
        "\n",
        "        orig_bbox[2] * w_ratio,\n",
        "        orig_bbox[3] * h_ratio,\n",
        "\n",
        "        orig_bbox[4] * w_ratio,\n",
        "        orig_bbox[5] * h_ratio,\n",
        "\n",
        "        orig_bbox[6] * w_ratio,\n",
        "        orig_bbox[7] * h_ratio\n",
        "    ]\n",
        "\n",
        "    return new_bbox\n",
        "\n",
        "def get_box( name, boxes ):\n",
        "  for box in boxes:\n",
        "    if box[0] == name:\n",
        "      return box\n",
        "\n",
        "  return None"
      ],
      "metadata": {
        "id": "yMuTRWbsIvQB"
      },
      "execution_count": null,
      "outputs": []
    },
    {
      "cell_type": "code",
      "source": [
        "detr_transform = transforms.Compose([\n",
        "    transforms.Resize(800),\n",
        "])\n",
        "\n",
        "yolo_image_shape = ( 416, 416, 3 )\n",
        "# resnet_image_shape = ( 224, 224, 3 )\n",
        "# deit_image_shape = ( 224, 224, 3 )\n",
        "classifier_image_shape = ( 224, 224, 3 )"
      ],
      "metadata": {
        "id": "EYIDdT0eNq61"
      },
      "execution_count": null,
      "outputs": []
    },
    {
      "cell_type": "code",
      "source": [
        "boxes_to_analyze = {\n",
        "    'detr': ( detr_boxes, 'te' ),\n",
        "    'yolo': ( yolo_boxes, 'te' ),\n",
        "    # 'deit': ( deit_boxes, 'te' ),\n",
        "    # 'resnet': ( resnet_boxes, 'te' )\n",
        "}\n",
        "\n",
        "images_to_vislualize = [ 53]\n",
        "for box_type, box_data in boxes_to_analyze.items():\n",
        "  boxes = box_data[0]\n",
        "\n",
        "  model = box_type\n",
        "  data = []\n",
        "\n",
        "  for i in images_to_vislualize:\n",
        "\n",
        "    # Get boxes\n",
        "    box_data = boxes[i]\n",
        "    image_num = box_data[0]\n",
        "\n",
        "    # Print\n",
        "    print( 'Running for model {} on box {}, image num {}, original image name {}'.format( model, i, image_num, image_names[image_num] ) )\n",
        "\n",
        "    image2 = Image.open( dataset_folder + '/' + image_names[image_num] ).convert('RGB')\n",
        "    image = cv2.imread( dataset_folder + '/' + image_names[image_num] )\n",
        "    orig_img_shape = np.array( image ).shape\n",
        "\n",
        "    new_image = None\n",
        "    new_img_shape = None\n",
        "    if model == 'detr':\n",
        "      new_image = detr_transform( image2 )\n",
        "      new_img_shape = np.array( new_image ).shape\n",
        "    elif model == 'yolo':\n",
        "      new_img_shape = yolo_image_shape\n",
        "    else:\n",
        "      new_img_shape = classifier_image_shape\n",
        "    \n",
        "    orig_img_shape = ( orig_img_shape[0], orig_img_shape[1] )\n",
        "    new_img_shape = ( new_img_shape[0], new_img_shape[1] )\n",
        "\n",
        "    orig_box = get_box( image_num, all_boxes )[2:10]\n",
        "    # orig_box = resizeBbox( orig_box, orig_img_shape, new_img_shape )\n",
        "    \n",
        "    gradcam_box = box_data[2:10]\n",
        "    gradcam_box = resizeBbox( gradcam_box, new_img_shape, orig_img_shape )\n",
        "\n",
        "    # print(orig_box)\n",
        "    # print(gradcam_box)\n",
        "\n",
        "    start_point_gt = ( int( orig_box[0] ), int( orig_box[1] ) )\n",
        "    end_point_gt = ( int( orig_box[4] ), int( orig_box[5] ) )\n",
        "    bbox_gt = cv2.rectangle( image, start_point_gt, end_point_gt, (0, 0, 255), 2 )\n",
        "\n",
        "    start_point_grad = ( int( gradcam_box[0] ), int( gradcam_box[1] ) )\n",
        "    end_point_grad = ( int( gradcam_box[4] ), int( gradcam_box[5] ) )\n",
        "    bbox_gradcam = cv2.rectangle( image, start_point_grad, end_point_grad, (0, 255, 0), 2 )\n",
        "\n",
        "    image_name = image_names[image_num].split('.')[0]\n",
        "    cv2.imwrite( output_dir + '/' + image_name + '_' + model + '.jpeg', image )"
      ],
      "metadata": {
        "id": "evLKgVxhCy8k",
        "colab": {
          "base_uri": "https://localhost:8080/"
        },
        "outputId": "5daf5f38-3470-40ab-f74a-f73497f50d49"
      },
      "execution_count": null,
      "outputs": [
        {
          "output_type": "stream",
          "name": "stdout",
          "text": [
            "Running for model detr on box 53, image num 53, original image name 53-zebra.jpg\n",
            "Running for model yolo on box 53, image num 53, original image name 53-zebra.jpg\n"
          ]
        }
      ]
    }
  ]
}